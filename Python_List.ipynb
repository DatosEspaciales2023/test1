{
  "nbformat": 4,
  "nbformat_minor": 0,
  "metadata": {
    "anaconda-cloud": {
      "attach-environment": true,
      "summary": "test"
    },
    "hide_input": false,
    "kernelspec": {
      "display_name": "Python 3",
      "language": "python",
      "name": "python3"
    },
    "language_info": {
      "codemirror_mode": {
        "name": "ipython",
        "version": 3
      },
      "file_extension": ".py",
      "mimetype": "text/x-python",
      "name": "python",
      "nbconvert_exporter": "python",
      "pygments_lexer": "ipython3",
      "version": "3.7.5"
    },
    "colab": {
      "provenance": [],
      "include_colab_link": true
    }
  },
  "cells": [
    {
      "cell_type": "markdown",
      "metadata": {
        "id": "view-in-github",
        "colab_type": "text"
      },
      "source": [
        "<a href=\"https://colab.research.google.com/github/DatosEspaciales2023/test1/blob/main/Python_List.ipynb\" target=\"_parent\"><img src=\"https://colab.research.google.com/assets/colab-badge.svg\" alt=\"Open In Colab\"/></a>"
      ]
    },
    {
      "cell_type": "markdown",
      "metadata": {
        "id": "wrqlp71rtWgf"
      },
      "source": [
        "<br>\n",
        "\n",
        "![Imgur](https://i.imgur.com/zRrFdsf.png)\n",
        "\n",
        "_____"
      ]
    },
    {
      "cell_type": "markdown",
      "metadata": {
        "id": "Bb5P9oBJtWgi"
      },
      "source": [
        "\n",
        "# Lists in Python"
      ]
    },
    {
      "cell_type": "markdown",
      "source": [
        "Preparation"
      ],
      "metadata": {
        "id": "3olqhhrKEU7S"
      }
    },
    {
      "cell_type": "markdown",
      "source": [
        "## 1. Creating"
      ],
      "metadata": {
        "id": "ix7xtYzM7GsE"
      }
    },
    {
      "cell_type": "code",
      "metadata": {
        "id": "GHJeUsWetWgm"
      },
      "source": [
        "\n",
        "namesP=[\"Qing\", \"Françoise\", \"Raúl\", \"Bjork\",\"Marie\",\"Jim\",\"Tere\",\"Tina\"]\n",
        "agesP=[32,33,28,30,29,33,34,27]\n",
        "countryP=[\"China\", \"Senegal\", \"España\", \"Norway\",\"Korea\",\"USA\",\"Bolivia\",\"Portugal\"]\n",
        "educationP=[\"Bach\", \"Bach\", \"Master\", \"PhD\",\"PhD\", \"Master\",\"Master\",\"PhD\"]"
      ],
      "execution_count": 43,
      "outputs": []
    },
    {
      "cell_type": "code",
      "source": [
        "type(namesP)"
      ],
      "metadata": {
        "id": "kHOybyYs7bt3",
        "colab": {
          "base_uri": "https://localhost:8080/"
        },
        "outputId": "a4efb24b-2387-47c8-e403-aa94d8dc442e"
      },
      "execution_count": 23,
      "outputs": [
        {
          "output_type": "execute_result",
          "data": {
            "text/plain": [
              "list"
            ]
          },
          "metadata": {},
          "execution_count": 23
        }
      ]
    },
    {
      "cell_type": "code",
      "source": [
        "agesP"
      ],
      "metadata": {
        "id": "bYQ8wWNQ6rSt",
        "colab": {
          "base_uri": "https://localhost:8080/"
        },
        "outputId": "2168f054-c479-4b24-d7a5-50fc6ccf1fdb"
      },
      "execution_count": 24,
      "outputs": [
        {
          "output_type": "execute_result",
          "data": {
            "text/plain": [
              "[32, 33, 28, 30, 29, 33, 34, 27]"
            ]
          },
          "metadata": {},
          "execution_count": 24
        }
      ]
    },
    {
      "cell_type": "markdown",
      "metadata": {
        "id": "_y7hce_8tWgr"
      },
      "source": [
        "## 2. Accessing"
      ]
    },
    {
      "cell_type": "code",
      "metadata": {
        "id": "Hp4CogsCtWgr",
        "colab": {
          "base_uri": "https://localhost:8080/"
        },
        "outputId": "2f4920a7-8c0f-4506-e39e-035e9133cbad"
      },
      "source": [
        "# Keep in mind the positions in Python start in **0**.\n",
        "agesP[0]"
      ],
      "execution_count": 25,
      "outputs": [
        {
          "output_type": "execute_result",
          "data": {
            "text/plain": [
              "32"
            ]
          },
          "metadata": {},
          "execution_count": 25
        }
      ]
    },
    {
      "cell_type": "code",
      "source": [
        "type(agesP[0])"
      ],
      "metadata": {
        "id": "LcIBAZEr7ml_",
        "colab": {
          "base_uri": "https://localhost:8080/"
        },
        "outputId": "8dedb9bb-c8e9-45e6-8a8f-e3c076d32169"
      },
      "execution_count": 26,
      "outputs": [
        {
          "output_type": "execute_result",
          "data": {
            "text/plain": [
              "int"
            ]
          },
          "metadata": {},
          "execution_count": 26
        }
      ]
    },
    {
      "cell_type": "code",
      "source": [
        "#last element\n",
        "countryP[-1]"
      ],
      "metadata": {
        "id": "MuQtAvsH-rJw",
        "colab": {
          "base_uri": "https://localhost:8080/",
          "height": 36
        },
        "outputId": "b40297e8-2403-4be6-80f6-02e956ff19bb"
      },
      "execution_count": 27,
      "outputs": [
        {
          "output_type": "execute_result",
          "data": {
            "text/plain": [
              "'Portugal'"
            ],
            "application/vnd.google.colaboratory.intrinsic+json": {
              "type": "string"
            }
          },
          "metadata": {},
          "execution_count": 27
        }
      ]
    },
    {
      "cell_type": "markdown",
      "source": [
        "### Slices"
      ],
      "metadata": {
        "id": "hAq14dMo8TnG"
      }
    },
    {
      "cell_type": "code",
      "metadata": {
        "id": "pa7c_1M1tWgv",
        "colab": {
          "base_uri": "https://localhost:8080/"
        },
        "outputId": "8c324ad4-e0af-4538-b211-47a191cc0cdf"
      },
      "source": [
        "# consecutive\n",
        "agesP[1:4] #second to fourth"
      ],
      "execution_count": 28,
      "outputs": [
        {
          "output_type": "execute_result",
          "data": {
            "text/plain": [
              "[33, 28, 30]"
            ]
          },
          "metadata": {},
          "execution_count": 28
        }
      ]
    },
    {
      "cell_type": "code",
      "source": [
        "# non consecutive with step or pattern\n",
        "agesP[1:8:2] # second to eight step 2"
      ],
      "metadata": {
        "id": "XSO50xLN9MZB",
        "colab": {
          "base_uri": "https://localhost:8080/"
        },
        "outputId": "d199a610-5a8c-4a96-f040-876652e0d4f5"
      },
      "execution_count": 29,
      "outputs": [
        {
          "output_type": "execute_result",
          "data": {
            "text/plain": [
              "[33, 30, 33, 27]"
            ]
          },
          "metadata": {},
          "execution_count": 29
        }
      ]
    },
    {
      "cell_type": "code",
      "metadata": {
        "id": "p8h88eUjtWg1",
        "colab": {
          "base_uri": "https://localhost:8080/"
        },
        "outputId": "2553c276-1c07-4f7b-bbcf-5ec8a78e1d04"
      },
      "source": [
        "# non consecutive without step or pattern\n",
        "keepIndex=[0, 2, 3]\n",
        "[agesP[i] for i in keepIndex]\n"
      ],
      "execution_count": 30,
      "outputs": [
        {
          "output_type": "execute_result",
          "data": {
            "text/plain": [
              "[32, 28, 30]"
            ]
          },
          "metadata": {},
          "execution_count": 30
        }
      ]
    },
    {
      "cell_type": "markdown",
      "metadata": {
        "id": "3HdLpDektWg6"
      },
      "source": [
        "## Replacing"
      ]
    },
    {
      "cell_type": "markdown",
      "source": [
        "### by Position"
      ],
      "metadata": {
        "id": "W9tJhxjeBMyX"
      }
    },
    {
      "cell_type": "code",
      "metadata": {
        "id": "Q5mtP1j8tWg7",
        "colab": {
          "base_uri": "https://localhost:8080/"
        },
        "outputId": "68b568be-6055-42bc-b031-4e7cb90bf997"
      },
      "source": [
        "countryP[2]=\"Spain\"\n",
        "\n",
        "# list changed:\n",
        "countryP"
      ],
      "execution_count": 31,
      "outputs": [
        {
          "output_type": "execute_result",
          "data": {
            "text/plain": [
              "['China', 'Senegal', 'Spain', 'Norway', 'Korea', 'USA', 'Bolivia', 'Portugal']"
            ]
          },
          "metadata": {},
          "execution_count": 31
        }
      ]
    },
    {
      "cell_type": "markdown",
      "source": [
        "### By Value"
      ],
      "metadata": {
        "id": "i3KudD3Don96"
      }
    },
    {
      "cell_type": "code",
      "source": [
        "\n",
        "countryP[countryP==\"China\"]=\"PR China\"\n",
        "countryP"
      ],
      "metadata": {
        "id": "Nf9PJWMjqiNI",
        "colab": {
          "base_uri": "https://localhost:8080/"
        },
        "outputId": "8dc351d5-2437-45b2-81e2-7e7038e32b4c"
      },
      "execution_count": 32,
      "outputs": [
        {
          "output_type": "execute_result",
          "data": {
            "text/plain": [
              "['PR China',\n",
              " 'Senegal',\n",
              " 'Spain',\n",
              " 'Norway',\n",
              " 'Korea',\n",
              " 'USA',\n",
              " 'Bolivia',\n",
              " 'Portugal']"
            ]
          },
          "metadata": {},
          "execution_count": 32
        }
      ]
    },
    {
      "cell_type": "markdown",
      "metadata": {
        "id": "_CF8wYu0tWhH"
      },
      "source": [
        "## Deleting"
      ]
    },
    {
      "cell_type": "markdown",
      "source": [
        "### By Position"
      ],
      "metadata": {
        "id": "bjYzRXv2rB2r"
      }
    },
    {
      "cell_type": "code",
      "metadata": {
        "id": "ghWSnmzftWhH",
        "colab": {
          "base_uri": "https://localhost:8080/"
        },
        "outputId": "4447c16f-cac3-483a-e029-543a50dfd1c5"
      },
      "source": [
        "del countryP[-1] #last value\n",
        "\n",
        "# list changed:\n",
        "countryP"
      ],
      "execution_count": 33,
      "outputs": [
        {
          "output_type": "execute_result",
          "data": {
            "text/plain": [
              "['PR China', 'Senegal', 'Spain', 'Norway', 'Korea', 'USA', 'Bolivia']"
            ]
          },
          "metadata": {},
          "execution_count": 33
        }
      ]
    },
    {
      "cell_type": "code",
      "metadata": {
        "id": "EVla5Ov2tWhM",
        "colab": {
          "base_uri": "https://localhost:8080/"
        },
        "outputId": "958bc787-f26c-46b7-bcb2-5bab94bfe2eb"
      },
      "source": [
        "# 'del' works for several positions\n",
        "\n",
        "listP=[1,2,3,4,5,6]\n",
        "del listP[1:4]\n",
        "\n",
        "#now:\n",
        "listP"
      ],
      "execution_count": 34,
      "outputs": [
        {
          "output_type": "execute_result",
          "data": {
            "text/plain": [
              "[1, 5, 6]"
            ]
          },
          "metadata": {},
          "execution_count": 34
        }
      ]
    },
    {
      "cell_type": "code",
      "source": [
        "# non consecutive\n",
        "listP=[11,22,33,44,55,66]\n",
        "byeIndex=[1, 3, 5]\n",
        "keepIndex=set(range(len(listP)))-set(byeIndex)\n",
        "listP=[listP[i] for i in keepIndex]\n",
        "listP"
      ],
      "metadata": {
        "id": "4Sc0LyKDuJoz",
        "colab": {
          "base_uri": "https://localhost:8080/"
        },
        "outputId": "c6877b9c-0a97-4df4-b1b1-b3d49b1f9df7"
      },
      "execution_count": 35,
      "outputs": [
        {
          "output_type": "execute_result",
          "data": {
            "text/plain": [
              "[11, 33, 55]"
            ]
          },
          "metadata": {},
          "execution_count": 35
        }
      ]
    },
    {
      "cell_type": "code",
      "source": [],
      "metadata": {
        "id": "XoAVEZX2Z8Vp"
      },
      "execution_count": 35,
      "outputs": []
    },
    {
      "cell_type": "markdown",
      "source": [
        "### by Value"
      ],
      "metadata": {
        "id": "rz-SxbVDyI_5"
      }
    },
    {
      "cell_type": "code",
      "metadata": {
        "id": "kQCwXCw3tWhO",
        "colab": {
          "base_uri": "https://localhost:8080/"
        },
        "outputId": "562bb32c-3c86-4fbb-b6ee-822f0d43d961"
      },
      "source": [
        "# by value\n",
        "listP=[1,'a',45,'b','a']\n",
        "listP.remove('a')\n",
        "\n",
        "# list changed:\n",
        "listP # just first ocurrence of value!!"
      ],
      "execution_count": 36,
      "outputs": [
        {
          "output_type": "execute_result",
          "data": {
            "text/plain": [
              "[1, 45, 'b', 'a']"
            ]
          },
          "metadata": {},
          "execution_count": 36
        }
      ]
    },
    {
      "cell_type": "code",
      "metadata": {
        "id": "GUi3v8hqtWhU",
        "colab": {
          "base_uri": "https://localhost:8080/"
        },
        "outputId": "2597ae1e-c2a9-4e7c-a44a-7c39b4121d02"
      },
      "source": [
        "# deleting every  value:\n",
        "\n",
        "listP=[1,'a',45,'b','a']\n",
        "listP=[p for p in listP if not p in ['a']]\n",
        "\n",
        "# you get:\n",
        "listP"
      ],
      "execution_count": 37,
      "outputs": [
        {
          "output_type": "execute_result",
          "data": {
            "text/plain": [
              "[1, 45, 'b']"
            ]
          },
          "metadata": {},
          "execution_count": 37
        }
      ]
    },
    {
      "cell_type": "markdown",
      "metadata": {
        "id": "JzcKbpXptWhX"
      },
      "source": [
        "## Inserting values"
      ]
    },
    {
      "cell_type": "code",
      "metadata": {
        "id": "or5OmtestWhY",
        "colab": {
          "base_uri": "https://localhost:8080/"
        },
        "outputId": "2f85cda4-7065-4a04-d230-78c6d3f2e9d5"
      },
      "source": [
        "# at the end\n",
        "listP=[1,'a',45,'b','a']\n",
        "listP.append(\"cde\")\n",
        "listP"
      ],
      "execution_count": 38,
      "outputs": [
        {
          "output_type": "execute_result",
          "data": {
            "text/plain": [
              "[1, 'a', 45, 'b', 'a', 'cde']"
            ]
          },
          "metadata": {},
          "execution_count": 38
        }
      ]
    },
    {
      "cell_type": "code",
      "source": [
        "# specific position\n",
        "listP=[1,'a',45,'b','a']\n",
        "listP.insert(2,\"cde\")\n",
        "listP"
      ],
      "metadata": {
        "id": "GB4IycLs32Ya",
        "colab": {
          "base_uri": "https://localhost:8080/"
        },
        "outputId": "a65c33bc-63e9-4c6f-b40b-f8422b69bb1e"
      },
      "execution_count": 39,
      "outputs": [
        {
          "output_type": "execute_result",
          "data": {
            "text/plain": [
              "[1, 'a', 'cde', 45, 'b', 'a']"
            ]
          },
          "metadata": {},
          "execution_count": 39
        }
      ]
    },
    {
      "cell_type": "markdown",
      "source": [
        "## Concatenating"
      ],
      "metadata": {
        "id": "ceqfkORcK9vt"
      }
    },
    {
      "cell_type": "code",
      "source": [
        "listA_P=[1,2,3]\n",
        "listB_P=['a', 'b', 'c']\n",
        "listA_P + listB_P"
      ],
      "metadata": {
        "id": "4nFczku8K_3k",
        "colab": {
          "base_uri": "https://localhost:8080/"
        },
        "outputId": "2adb014d-33b6-47a2-d99d-a50a0cf69241"
      },
      "execution_count": 40,
      "outputs": [
        {
          "output_type": "execute_result",
          "data": {
            "text/plain": [
              "[1, 2, 3, 'a', 'b', 'c']"
            ]
          },
          "metadata": {},
          "execution_count": 40
        }
      ]
    },
    {
      "cell_type": "code",
      "source": [
        "listA2_P=[1,2,3]\n",
        "listB2_P=['a', 'b', 'c']\n",
        "listA2_P.extend(listB2_P)\n",
        "listA2_P"
      ],
      "metadata": {
        "id": "gvCtdID3bgm-",
        "colab": {
          "base_uri": "https://localhost:8080/"
        },
        "outputId": "f3d6486b-ce7d-4479-b361-fafe82d8ead2"
      },
      "execution_count": 41,
      "outputs": [
        {
          "output_type": "execute_result",
          "data": {
            "text/plain": [
              "[1, 2, 3, 'a', 'b', 'c']"
            ]
          },
          "metadata": {},
          "execution_count": 41
        }
      ]
    },
    {
      "cell_type": "code",
      "source": [
        "#notice\n",
        "listA1_P=[1,2,3]\n",
        "listB1_P=['a', 'b', 'c']\n",
        "listA1_P.append(listB1_P)\n",
        "listA1_P"
      ],
      "metadata": {
        "id": "buD_S1X6MUje",
        "colab": {
          "base_uri": "https://localhost:8080/"
        },
        "outputId": "48dc0ab6-0061-4e1c-b928-f911a4070ecf"
      },
      "execution_count": 42,
      "outputs": [
        {
          "output_type": "execute_result",
          "data": {
            "text/plain": [
              "[1, 2, 3, ['a', 'b', 'c']]"
            ]
          },
          "metadata": {},
          "execution_count": 42
        }
      ]
    },
    {
      "cell_type": "code",
      "source": [],
      "metadata": {
        "id": "DXNUWj0phmL7"
      },
      "execution_count": 42,
      "outputs": []
    }
  ]
}